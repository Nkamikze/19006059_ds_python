{
 "cells": [
  {
   "cell_type": "markdown",
   "metadata": {},
   "source": [
    "**EDGAR EDUARDO ELIAS DIAZ 19006059**\n",
    "\n",
    "# FUNCIONES EN PYTHON\n",
    "\n",
    "\n",
    "Una función es la forma de agrupar sentencias y expresiones para realizar acciones en el flujo de un programa con la salvedad de que este código no se ejecuta hasta que es invocado.\n",
    "\n",
    "Una función se define por medio de la instrucción **def** seguido con el nombre que identifica a la función: \n",
    "    \n",
    "    Por ejemplo:\n",
    "\n"
   ]
  },
  {
   "cell_type": "code",
   "execution_count": 6,
   "metadata": {},
   "outputs": [
    {
     "name": "stdout",
     "output_type": "stream",
     "text": [
      "Hola Mundo!!!\n"
     ]
    }
   ],
   "source": [
    "#declaracion de una funcion\n",
    "def funcion1():\n",
    "    #codigo de la funcion\n",
    "    print (\"Hola Mundo!!!\")\n",
    "    \n",
    "#llamada de la funcion\n",
    "funcion1()\n"
   ]
  },
  {
   "cell_type": "markdown",
   "metadata": {},
   "source": [
    "# Parámetros posicionales\n",
    "\n",
    "Además una función puede recibir parámetros para poder evaluarse con base a cierta información. Los parámetros se indican entre los paréntesis separados por coma."
   ]
  },
  {
   "cell_type": "code",
   "execution_count": 10,
   "metadata": {},
   "outputs": [
    {
     "name": "stdout",
     "output_type": "stream",
     "text": [
      "Hola !!Edgar tu edad es 30\n"
     ]
    }
   ],
   "source": [
    "def funcion2(nombre, edad):\n",
    "    print(\"Hola !!\" + nombre + \" tu edad es \" + str(edad))\n",
    "    \n",
    "funcion2(\"Edgar\", 30)"
   ]
  },
  {
   "cell_type": "markdown",
   "metadata": {},
   "source": [
    "# Parámetros nombrados\n",
    "\n",
    "En python es posible llamar a una función, pasandole los argumentos esperados como pares de **clave=valor**"
   ]
  },
  {
   "cell_type": "code",
   "execution_count": 15,
   "metadata": {},
   "outputs": [
    {
     "name": "stdout",
     "output_type": "stream",
     "text": [
      "Buenos dias Edgar\n"
     ]
    }
   ],
   "source": [
    "def saludar(nombre, mensaje = \"Bienvenido\"):\n",
    "    print (mensaje, nombre)\n",
    "    \n",
    "saludar(nombre=\"Edgar\", mensaje = \"Buenos dias\")"
   ]
  },
  {
   "cell_type": "markdown",
   "metadata": {},
   "source": [
    "# Retorno de multiples valores\n",
    "\n",
    "Al igual que una funcion normal a veces es necesario obtener en una misma funcion varios valores en el return."
   ]
  },
  {
   "cell_type": "code",
   "execution_count": 16,
   "metadata": {},
   "outputs": [
    {
     "name": "stdout",
     "output_type": "stream",
     "text": [
      "Edgar Elias\n",
      "IT\n"
     ]
    }
   ],
   "source": [
    "def informacionAlumno(numCarne):\n",
    "    estudiantes = {\"20196059\":\"Edgar Elias-IT\", \"20190000\":\"Otro alumno-BI\"}\n",
    "    estudiante = estudiantes[numCarne]\n",
    "    lista = estudiante.split(\"-\")\n",
    "    \n",
    "    return (lista[0], lista[1])\n",
    "\n",
    "estudiante, campo = informacionAlumno(\"20196059\")\n",
    "\n",
    "print(estudiante)\n",
    "print(campo)"
   ]
  },
  {
   "cell_type": "markdown",
   "metadata": {},
   "source": [
    "# Funciones como parámetros de otras funciones\n",
    "\n",
    "De igual forma que en la mayoria de lenguajes de programación orientado a objetos una función se puede trabajar como cualquier otro tipo de objeto dentro del lenguaje por lo que se puede utilizar como un parametro y su resultado sera pasado como parametro para ls siguiente funcion."
   ]
  },
  {
   "cell_type": "code",
   "execution_count": 17,
   "metadata": {},
   "outputs": [
    {
     "name": "stdout",
     "output_type": "stream",
     "text": [
      "4\n"
     ]
    }
   ],
   "source": [
    "def cuadrado(x):\n",
    "    return x ** 2\n",
    "\n",
    "def raiz_cuadrada(x):\n",
    "    return x ** 0.5\n",
    "\n",
    "def operar(func, *args):\n",
    "    for n in args:\n",
    "        print(func(n))\n",
    "        \n",
    "operar(cuadrado, 2)"
   ]
  },
  {
   "cell_type": "markdown",
   "metadata": {},
   "source": [
    "# Funciones anónimas o Función Lambda\n",
    "\n",
    "Lambda sirve para poder crear funciones anonimas de una sola linea sobre la marcha."
   ]
  },
  {
   "cell_type": "code",
   "execution_count": 18,
   "metadata": {},
   "outputs": [
    {
     "data": {
      "text/plain": [
       "4"
      ]
     },
     "execution_count": 18,
     "metadata": {},
     "output_type": "execute_result"
    }
   ],
   "source": [
    "cuadrado = lambda x: x ** 2\n",
    "cuadrado(2)"
   ]
  },
  {
   "cell_type": "code",
   "execution_count": null,
   "metadata": {},
   "outputs": [],
   "source": []
  }
 ],
 "metadata": {
  "kernelspec": {
   "display_name": "Python 3",
   "language": "python",
   "name": "python3"
  },
  "language_info": {
   "codemirror_mode": {
    "name": "ipython",
    "version": 3
   },
   "file_extension": ".py",
   "mimetype": "text/x-python",
   "name": "python",
   "nbconvert_exporter": "python",
   "pygments_lexer": "ipython3",
   "version": "3.7.2"
  }
 },
 "nbformat": 4,
 "nbformat_minor": 2
}
